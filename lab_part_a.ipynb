{
 "cells": [
  {
   "cell_type": "code",
   "execution_count": 1,
   "metadata": {},
   "outputs": [],
   "source": [
    "# import the helper functions\n",
    "import json_tools as jt"
   ]
  },
  {
   "cell_type": "code",
   "execution_count": 2,
   "metadata": {},
   "outputs": [],
   "source": [
    "# download the default dataset from Dr. McKay's website\n",
    "jt.import_default()"
   ]
  },
  {
   "cell_type": "code",
   "execution_count": 3,
   "metadata": {},
   "outputs": [],
   "source": [
    "# identify the list of files\n",
    "from pathlib import Path\n",
    "json_files = [f for f in Path(\"./data/json\").glob(\"*/*.json\")]\n",
    "json_files.sort()"
   ]
  },
  {
   "cell_type": "code",
   "execution_count": 4,
   "metadata": {},
   "outputs": [
    {
     "data": {
      "text/plain": [
       "[PosixPath('data/json/offmed-TUG-standard-11/offmed-TUG-standard-11_000000000000_keypoints.json'),\n",
       " PosixPath('data/json/offmed-TUG-standard-11/offmed-TUG-standard-11_000000000001_keypoints.json'),\n",
       " PosixPath('data/json/offmed-TUG-standard-11/offmed-TUG-standard-11_000000000002_keypoints.json'),\n",
       " PosixPath('data/json/offmed-TUG-standard-11/offmed-TUG-standard-11_000000000003_keypoints.json'),\n",
       " PosixPath('data/json/offmed-TUG-standard-11/offmed-TUG-standard-11_000000000004_keypoints.json'),\n",
       " PosixPath('data/json/offmed-TUG-standard-11/offmed-TUG-standard-11_000000000005_keypoints.json'),\n",
       " PosixPath('data/json/offmed-TUG-standard-11/offmed-TUG-standard-11_000000000006_keypoints.json'),\n",
       " PosixPath('data/json/offmed-TUG-standard-11/offmed-TUG-standard-11_000000000007_keypoints.json'),\n",
       " PosixPath('data/json/offmed-TUG-standard-11/offmed-TUG-standard-11_000000000008_keypoints.json'),\n",
       " PosixPath('data/json/offmed-TUG-standard-11/offmed-TUG-standard-11_000000000009_keypoints.json')]"
      ]
     },
     "execution_count": 4,
     "metadata": {},
     "output_type": "execute_result"
    }
   ],
   "source": [
    "# examine the first ten files\n",
    "json_files[:10]"
   ]
  },
  {
   "cell_type": "code",
   "execution_count": 5,
   "metadata": {},
   "outputs": [],
   "source": [
    "# concatenate the keypoints into a numpy array\n",
    "keypoint_array = jt.return_keypoints(json_files[100])"
   ]
  },
  {
   "cell_type": "code",
   "execution_count": 6,
   "metadata": {},
   "outputs": [
    {
     "data": {
      "image/png": "[encoded data removed]",
      "text/plain": [
       "<Figure size 900x600 with 1 Axes>"
      ]
     },
     "metadata": {},
     "output_type": "display_data"
    }
   ],
   "source": [
    "# plot the keypoints of one frame\n",
    "f = jt.plot_keypoints(json_files[75])"
   ]
  },
  {
   "cell_type": "code",
   "execution_count": 7,
   "metadata": {},
   "outputs": [
    {
     "data": {
      "text/plain": [
       "(75,)"
      ]
     },
     "execution_count": 7,
     "metadata": {},
     "output_type": "execute_result"
    }
   ],
   "source": [
    "# examine the keypoint structure\n",
    "keypoints = jt.return_keypoints(json_files[100])\n",
    "keypoints.shape"
   ]
  },
  {
   "cell_type": "code",
   "execution_count": 8,
   "metadata": {},
   "outputs": [
    {
     "data": {
      "text/html": [
       "<div>\n",
       "<style scoped>\n",
       "    .dataframe tbody tr th:only-of-type {\n",
       "        vertical-align: middle;\n",
       "    }\n",
       "\n",
       "    .dataframe tbody tr th {\n",
       "        vertical-align: top;\n",
       "    }\n",
       "\n",
       "    .dataframe thead th {\n",
       "        text-align: right;\n",
       "    }\n",
       "</style>\n",
       "<table border=\"1\" class=\"dataframe\">\n",
       "  <thead>\n",
       "    <tr style=\"text-align: right;\">\n",
       "      <th></th>\n",
       "      <th>keypoint</th>\n",
       "      <th>x</th>\n",
       "      <th>y</th>\n",
       "    </tr>\n",
       "  </thead>\n",
       "  <tbody>\n",
       "    <tr>\n",
       "      <th>0</th>\n",
       "      <td>Nose</td>\n",
       "      <td>279.836</td>\n",
       "      <td>279.836</td>\n",
       "    </tr>\n",
       "    <tr>\n",
       "      <th>1</th>\n",
       "      <td>Neck</td>\n",
       "      <td>277.242</td>\n",
       "      <td>277.242</td>\n",
       "    </tr>\n",
       "    <tr>\n",
       "      <th>2</th>\n",
       "      <td>RShoulder</td>\n",
       "      <td>257.628</td>\n",
       "      <td>257.628</td>\n",
       "    </tr>\n",
       "    <tr>\n",
       "      <th>3</th>\n",
       "      <td>RElbow</td>\n",
       "      <td>231.514</td>\n",
       "      <td>231.514</td>\n",
       "    </tr>\n",
       "    <tr>\n",
       "      <th>4</th>\n",
       "      <td>RWrist</td>\n",
       "      <td>204.111</td>\n",
       "      <td>204.111</td>\n",
       "    </tr>\n",
       "    <tr>\n",
       "      <th>5</th>\n",
       "      <td>LShoulder</td>\n",
       "      <td>298.123</td>\n",
       "      <td>298.123</td>\n",
       "    </tr>\n",
       "    <tr>\n",
       "      <th>6</th>\n",
       "      <td>LElbow</td>\n",
       "      <td>328.053</td>\n",
       "      <td>328.053</td>\n",
       "    </tr>\n",
       "    <tr>\n",
       "      <th>7</th>\n",
       "      <td>LWrist</td>\n",
       "      <td>351.601</td>\n",
       "      <td>351.601</td>\n",
       "    </tr>\n",
       "    <tr>\n",
       "      <th>8</th>\n",
       "      <td>MidHip</td>\n",
       "      <td>278.497</td>\n",
       "      <td>278.497</td>\n",
       "    </tr>\n",
       "    <tr>\n",
       "      <th>9</th>\n",
       "      <td>RHip</td>\n",
       "      <td>266.710</td>\n",
       "      <td>266.710</td>\n",
       "    </tr>\n",
       "    <tr>\n",
       "      <th>10</th>\n",
       "      <td>RKnee</td>\n",
       "      <td>265.448</td>\n",
       "      <td>265.448</td>\n",
       "    </tr>\n",
       "    <tr>\n",
       "      <th>11</th>\n",
       "      <td>RAnkle</td>\n",
       "      <td>262.848</td>\n",
       "      <td>262.848</td>\n",
       "    </tr>\n",
       "    <tr>\n",
       "      <th>12</th>\n",
       "      <td>LHip</td>\n",
       "      <td>291.569</td>\n",
       "      <td>291.569</td>\n",
       "    </tr>\n",
       "    <tr>\n",
       "      <th>13</th>\n",
       "      <td>LKnee</td>\n",
       "      <td>296.714</td>\n",
       "      <td>296.714</td>\n",
       "    </tr>\n",
       "    <tr>\n",
       "      <th>14</th>\n",
       "      <td>LAnkle</td>\n",
       "      <td>300.687</td>\n",
       "      <td>300.687</td>\n",
       "    </tr>\n",
       "    <tr>\n",
       "      <th>15</th>\n",
       "      <td>REye</td>\n",
       "      <td>277.149</td>\n",
       "      <td>277.149</td>\n",
       "    </tr>\n",
       "    <tr>\n",
       "      <th>16</th>\n",
       "      <td>LEye</td>\n",
       "      <td>285.053</td>\n",
       "      <td>285.053</td>\n",
       "    </tr>\n",
       "    <tr>\n",
       "      <th>17</th>\n",
       "      <td>REar</td>\n",
       "      <td>269.386</td>\n",
       "      <td>269.386</td>\n",
       "    </tr>\n",
       "    <tr>\n",
       "      <th>18</th>\n",
       "      <td>LEar</td>\n",
       "      <td>287.710</td>\n",
       "      <td>287.710</td>\n",
       "    </tr>\n",
       "    <tr>\n",
       "      <th>19</th>\n",
       "      <td>LBigToe</td>\n",
       "      <td>305.864</td>\n",
       "      <td>305.864</td>\n",
       "    </tr>\n",
       "    <tr>\n",
       "      <th>20</th>\n",
       "      <td>LSmallToe</td>\n",
       "      <td>308.566</td>\n",
       "      <td>308.566</td>\n",
       "    </tr>\n",
       "    <tr>\n",
       "      <th>21</th>\n",
       "      <td>LHeel</td>\n",
       "      <td>298.124</td>\n",
       "      <td>298.124</td>\n",
       "    </tr>\n",
       "    <tr>\n",
       "      <th>22</th>\n",
       "      <td>RBigToe</td>\n",
       "      <td>256.263</td>\n",
       "      <td>256.263</td>\n",
       "    </tr>\n",
       "    <tr>\n",
       "      <th>23</th>\n",
       "      <td>RSmallToe</td>\n",
       "      <td>251.106</td>\n",
       "      <td>251.106</td>\n",
       "    </tr>\n",
       "    <tr>\n",
       "      <th>24</th>\n",
       "      <td>RHeel</td>\n",
       "      <td>265.432</td>\n",
       "      <td>265.432</td>\n",
       "    </tr>\n",
       "  </tbody>\n",
       "</table>\n",
       "</div>"
      ],
      "text/plain": [
       "     keypoint        x        y\n",
       "0        Nose  279.836  279.836\n",
       "1        Neck  277.242  277.242\n",
       "2   RShoulder  257.628  257.628\n",
       "3      RElbow  231.514  231.514\n",
       "4      RWrist  204.111  204.111\n",
       "5   LShoulder  298.123  298.123\n",
       "6      LElbow  328.053  328.053\n",
       "7      LWrist  351.601  351.601\n",
       "8      MidHip  278.497  278.497\n",
       "9        RHip  266.710  266.710\n",
       "10      RKnee  265.448  265.448\n",
       "11     RAnkle  262.848  262.848\n",
       "12       LHip  291.569  291.569\n",
       "13      LKnee  296.714  296.714\n",
       "14     LAnkle  300.687  300.687\n",
       "15       REye  277.149  277.149\n",
       "16       LEye  285.053  285.053\n",
       "17       REar  269.386  269.386\n",
       "18       LEar  287.710  287.710\n",
       "19    LBigToe  305.864  305.864\n",
       "20  LSmallToe  308.566  308.566\n",
       "21      LHeel  298.124  298.124\n",
       "22    RBigToe  256.263  256.263\n",
       "23  RSmallToe  251.106  251.106\n",
       "24      RHeel  265.432  265.432"
      ]
     },
     "execution_count": 8,
     "metadata": {},
     "output_type": "execute_result"
    }
   ],
   "source": [
    "# examine the x, y coordinates of the keypoints\n",
    "df = jt.return_body25(json_files[100])\n",
    "df"
   ]
  }
 ],
 "metadata": {
  "kernelspec": {
   "display_name": "Python 3",
   "language": "python",
   "name": "python3"
  },
  "language_info": {
   "codemirror_mode": {
    "name": "ipython",
    "version": 3
   },
   "file_extension": ".py",
   "mimetype": "text/x-python",
   "name": "python",
   "nbconvert_exporter": "python",
   "pygments_lexer": "ipython3",
   "version": "3.8.3"
  }
 },
 "nbformat": 4,
 "nbformat_minor": 4
}
